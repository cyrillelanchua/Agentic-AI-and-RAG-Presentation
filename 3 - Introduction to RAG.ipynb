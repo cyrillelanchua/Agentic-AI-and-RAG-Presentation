{
 "cells": [
  {
   "cell_type": "markdown",
   "id": "1636bc00",
   "metadata": {},
   "source": [
    "### Install Chromadb and Pandas"
   ]
  },
  {
   "cell_type": "code",
   "execution_count": null,
   "id": "f51a1265",
   "metadata": {
    "vscode": {
     "languageId": "shellscript"
    }
   },
   "outputs": [],
   "source": [
    "pip install chromadb"
   ]
  },
  {
   "cell_type": "code",
   "execution_count": null,
   "id": "88deed8c",
   "metadata": {
    "vscode": {
     "languageId": "shellscript"
    }
   },
   "outputs": [],
   "source": [
    "pip install pandas"
   ]
  },
  {
   "cell_type": "code",
   "execution_count": null,
   "id": "8f702bb1",
   "metadata": {},
   "outputs": [],
   "source": [
    "import chromadb #https://docs.trychroma.com/docs/overview/getting-started\n",
    "import pandas as pd"
   ]
  },
  {
   "cell_type": "code",
   "execution_count": null,
   "id": "b7d085e0",
   "metadata": {},
   "outputs": [],
   "source": [
    "import os\n",
    "os.environ['SSL_CERT_FILE'] = 'ca-bundle-full.crt'"
   ]
  },
  {
   "cell_type": "markdown",
   "id": "d6130b2b",
   "metadata": {},
   "source": [
    "### Create a database"
   ]
  },
  {
   "cell_type": "code",
   "execution_count": null,
   "id": "b0146158",
   "metadata": {},
   "outputs": [],
   "source": [
    "#chroma_client = chromadb.Client() # If you want the data to be memory only.\n",
    "\n",
    "chroma_client = chromadb.PersistentClient(path=\"./chroma_db\") # to persist the database\n"
   ]
  },
  {
   "cell_type": "markdown",
   "id": "1fd9e7e0",
   "metadata": {},
   "source": [
    "### Create a collection"
   ]
  },
  {
   "cell_type": "code",
   "execution_count": null,
   "id": "0608f558",
   "metadata": {},
   "outputs": [],
   "source": [
    "# create the collection to store documents and their embeddings\n",
    "collection_documents = chroma_client.create_collection(name=\"documents\")"
   ]
  },
  {
   "cell_type": "code",
   "execution_count": null,
   "id": "fed3eaa7",
   "metadata": {},
   "outputs": [],
   "source": [
    "# get or create the collection if it already exists\n",
    "collection_documents = chroma_client.get_or_create_collection(name=\"documents\")"
   ]
  },
  {
   "cell_type": "markdown",
   "id": "98e30faa",
   "metadata": {},
   "source": [
    "### Add data into the database"
   ]
  },
  {
   "cell_type": "code",
   "execution_count": null,
   "id": "251dbf18",
   "metadata": {},
   "outputs": [],
   "source": [
    "#this code will also download the embedding model on the first run\n",
    "#every document will be converted into a vector using the embedding model\n",
    "#and stored in the collection along with the document text and metadata https://docs.trychroma.com/docs/embeddings/embedding-functions\n",
    "collection_documents.add(\n",
    "    ids=[\"id1\", \"id2\"],\n",
    "    documents=[\n",
    "        \"This is a document about pineapple\",\n",
    "        \"This is a document about oranges\"\n",
    "    ]\n",
    ")"
   ]
  },
  {
   "cell_type": "markdown",
   "id": "fc0fe598",
   "metadata": {},
   "source": [
    "### Query the data"
   ]
  },
  {
   "cell_type": "code",
   "execution_count": null,
   "id": "dd36ccef",
   "metadata": {},
   "outputs": [],
   "source": [
    "from pprint import pprint\n",
    "# query the collection for similar documents\n",
    "results = collection_documents.query(\n",
    "    query_texts=[\"This is a query document about hawaii\"], # Chroma will embed this for you\n",
    "    n_results=2 # how many results to return\n",
    ")\n",
    "pprint(results) #https://docs.trychroma.com/docs/querying-collections/query-and-get#results-shape"
   ]
  },
  {
   "cell_type": "markdown",
   "id": "71e3317a",
   "metadata": {},
   "source": [
    "### Filter search"
   ]
  },
  {
   "cell_type": "code",
   "execution_count": null,
   "id": "26afb397",
   "metadata": {},
   "outputs": [],
   "source": [
    " # adding filter https://docs.trychroma.com/docs/querying-collections/metadata-filtering\n",
    "results = collection_documents.query(\n",
    "    query_texts=[\"This is a query document about hawaii\"],\n",
    "    n_results=2,\n",
    "    where_document={\"$contains\": \"pineapple\"} # filter and only return documents that contain the word pineapple\n",
    ")\n",
    "pprint(results)"
   ]
  },
  {
   "cell_type": "markdown",
   "id": "cdcbbaf1",
   "metadata": {},
   "source": [
    "## Lets try adding a csv file into a database"
   ]
  },
  {
   "cell_type": "markdown",
   "id": "057cb63c",
   "metadata": {},
   "source": [
    "### Lets try to use a different embedding model"
   ]
  },
  {
   "cell_type": "code",
   "execution_count": null,
   "id": "96c1b425",
   "metadata": {},
   "outputs": [],
   "source": [
    "#use different embedding model\n",
    "import chromadb.utils.embedding_functions as embedding_functions\n",
    "openai_ef = embedding_functions.OpenAIEmbeddingFunction( #https://docs.trychroma.com/integrations/embedding-models/openai\n",
    "                api_key=\"<API_KEY>\",\n",
    "                api_base=\"<ENDPOINT_URL>\",\n",
    "                api_type=\"azure\",\n",
    "                api_version=\"2024-10-21\",\n",
    "                model_name=\"text-embedding-3-small\",\n",
    "                deployment_id='text-embedding-3-small' #https://platform.openai.com/docs/guides/embeddings\n",
    "            )"
   ]
  },
  {
   "cell_type": "markdown",
   "id": "757d4cab",
   "metadata": {},
   "source": [
    "### Load the file (Corpus Composition and Ingestion)"
   ]
  },
  {
   "cell_type": "code",
   "execution_count": null,
   "id": "b2f7a54d",
   "metadata": {},
   "outputs": [],
   "source": [
    "data = pd.read_csv(\"Data/sample_book_data.csv\")\n",
    "data.head()"
   ]
  },
  {
   "cell_type": "markdown",
   "id": "7ad6494e",
   "metadata": {},
   "source": [
    "### Is the data clean?"
   ]
  },
  {
   "cell_type": "markdown",
   "id": "432bfb19",
   "metadata": {},
   "source": [
    "### Chunking data "
   ]
  },
  {
   "cell_type": "code",
   "execution_count": null,
   "id": "01b5aeaa",
   "metadata": {},
   "outputs": [],
   "source": [
    "#Concat the data making it semantic and suitable for embedding. This is what we will add to the database.\n",
    "data['concatdata'] =\"title:\"+ data['title'] + \" description:\" + data['description'] + \" category:\" + data['category'] + \" summary:\" + data['summary']"
   ]
  },
  {
   "cell_type": "code",
   "execution_count": null,
   "id": "214f626b",
   "metadata": {},
   "outputs": [],
   "source": [
    "data['concatdata'].head()"
   ]
  },
  {
   "cell_type": "markdown",
   "id": "b555d745",
   "metadata": {},
   "source": [
    "### Embed the data"
   ]
  },
  {
   "cell_type": "code",
   "execution_count": null,
   "id": "af9a7611",
   "metadata": {},
   "outputs": [],
   "source": [
    "vectors = openai_ef(data['concatdata'].astype(str).tolist())\n",
    "print(vectors)"
   ]
  },
  {
   "cell_type": "markdown",
   "id": "7281f85e",
   "metadata": {},
   "source": [
    "### Create a collection to store the book data"
   ]
  },
  {
   "cell_type": "code",
   "execution_count": null,
   "id": "ca6653a7",
   "metadata": {},
   "outputs": [],
   "source": [
    "collection_books = chroma_client.get_or_create_collection(name=\"books\")"
   ]
  },
  {
   "cell_type": "code",
   "execution_count": null,
   "id": "0c782162",
   "metadata": {},
   "outputs": [],
   "source": [
    "collection_list = chroma_client.list_collections()\n",
    "print(collection_list)"
   ]
  },
  {
   "cell_type": "markdown",
   "id": "df539109",
   "metadata": {},
   "source": [
    "### Add metadata for filtering and adding context to chunks"
   ]
  },
  {
   "cell_type": "code",
   "execution_count": null,
   "id": "c91c6ff0",
   "metadata": {},
   "outputs": [],
   "source": [
    "metadata = data[['id', 'title', 'category']].to_dict(orient='records')"
   ]
  },
  {
   "cell_type": "markdown",
   "id": "c65dce87",
   "metadata": {},
   "source": [
    "### Add the data into the collection"
   ]
  },
  {
   "cell_type": "code",
   "execution_count": null,
   "id": "3acb8b0b",
   "metadata": {},
   "outputs": [],
   "source": [
    "collection_books.add( #https://docs.trychroma.com/reference/python/collection#add\n",
    "    documents=data['concatdata'].astype(str).tolist(),\n",
    "    embeddings=vectors,\n",
    "    ids=[str(i+1) for i in range(len(data))],\n",
    "    metadatas=metadata\n",
    ")"
   ]
  },
  {
   "cell_type": "code",
   "execution_count": null,
   "id": "7a67a1c9",
   "metadata": {},
   "outputs": [],
   "source": [
    "metadata"
   ]
  },
  {
   "cell_type": "code",
   "execution_count": null,
   "id": "bb398354",
   "metadata": {},
   "outputs": [],
   "source": [
    "data['concatdata'].astype(str).tolist()"
   ]
  },
  {
   "cell_type": "code",
   "execution_count": null,
   "id": "46e9a693",
   "metadata": {},
   "outputs": [],
   "source": [
    "[str(i+1) for i in range(len(data))]"
   ]
  },
  {
   "cell_type": "code",
   "execution_count": null,
   "id": "ff461954",
   "metadata": {},
   "outputs": [],
   "source": [
    "collection_books.count()"
   ]
  },
  {
   "cell_type": "markdown",
   "id": "ed87094b",
   "metadata": {},
   "source": [
    "### Lets try querying for some books"
   ]
  },
  {
   "cell_type": "code",
   "execution_count": null,
   "id": "01136bc6",
   "metadata": {},
   "outputs": [],
   "source": [
    "query = \"A book about python\"\n",
    "query_embedding = openai_ef([query])\n",
    "results = collection_books.query(  #https://docs.trychroma.com/reference/python/collection#query\n",
    "    query_embeddings=query_embedding,\n",
    "    n_results=3\n",
    ")\n",
    "pprint(results)"
   ]
  },
  {
   "cell_type": "markdown",
   "id": "47391849",
   "metadata": {},
   "source": [
    "### Trying filter search with metadata"
   ]
  },
  {
   "cell_type": "code",
   "execution_count": null,
   "id": "1510cb0e",
   "metadata": {},
   "outputs": [],
   "source": [
    "query = \"A book about python\"\n",
    "query_embedding = openai_ef([query])\n",
    "results = collection_books.query(\n",
    "    query_embeddings=query_embedding,\n",
    "    n_results=5,\n",
    "    where={\"category\": \"Finance\"}\n",
    ")\n",
    "pprint(results)"
   ]
  },
  {
   "cell_type": "code",
   "execution_count": null,
   "id": "fad66699",
   "metadata": {},
   "outputs": [],
   "source": [
    "# Get a specific document by ID\n",
    "results = collection_books.get(ids=[\"1\", \"2\"])\n",
    "pprint(results)"
   ]
  },
  {
   "cell_type": "markdown",
   "id": "3fd1a595",
   "metadata": {},
   "source": [
    "## Lets try implementing the vector database into our AI"
   ]
  },
  {
   "cell_type": "code",
   "execution_count": null,
   "id": "fe331564",
   "metadata": {},
   "outputs": [],
   "source": [
    "from langchain_openai import AzureChatOpenAI\n",
    "model = AzureChatOpenAI(\n",
    "    openai_api_version=\"2024-02-01\",\n",
    "    deployment_name=\"gpt-4o-2024-08-06\",\n",
    "    azure_endpoint=\"<ENDPOINT_URL>\",\n",
    "    openai_api_type=\"azure\",\n",
    "    openai_api_key=\"<API_KEY>\",\n",
    "\n",
    "    temperature=1,\n",
    "    max_tokens=500,\n",
    "    top_p=0.5,\n",
    "    frequency_penalty=0,\n",
    "    presence_penalty=0,\n",
    "    stop=None\n",
    "    )"
   ]
  },
  {
   "cell_type": "code",
   "execution_count": null,
   "id": "36c66e8e",
   "metadata": {},
   "outputs": [],
   "source": [
    "from langchain_core.tools import tool\n",
    "\n",
    "@tool\n",
    "def search_book_by_content(query: str) -> list:\n",
    "    \"\"\"Searches for books in the vector database that match the query.\"\"\"\n",
    "    query_embedding = openai_ef([query])\n",
    "    results = collection_books.query(\n",
    "        query_embeddings=query_embedding,\n",
    "        n_results=3\n",
    "    )\n",
    "    return results\n",
    "\n",
    "@tool\n",
    "def add_book_to_database(title: str, description: str, category: str, summary: str) -> str:\n",
    "    \"\"\"Adds a new book to the vector database.\"\"\"\n",
    "    concatdata = \"title:\"+ title + \" description:\" + description + \" category:\" + category + \" summary:\" + summary\n",
    "    vector = openai_ef([concatdata])[0]\n",
    "    new_id = str(collection_books.count() + 1)\n",
    "    metadata = {'id': new_id, 'title': title, 'category': category}\n",
    "\n",
    "    collection_books.add(\n",
    "        documents=[concatdata],\n",
    "        embeddings=[vector],\n",
    "        ids=[new_id],\n",
    "        metadatas=[metadata]\n",
    "    )\n",
    "\n",
    "    return f\"Book '{title}' added with ID {new_id}.\"\n",
    "\n",
    "tools = [search_book_by_content, add_book_to_database]"
   ]
  },
  {
   "cell_type": "code",
   "execution_count": null,
   "id": "747b5eb4",
   "metadata": {},
   "outputs": [],
   "source": [
    "from langgraph.prebuilt import create_react_agent\n",
    "agent_executor = create_react_agent(model, tools)"
   ]
  },
  {
   "cell_type": "code",
   "execution_count": null,
   "id": "02ce448d",
   "metadata": {},
   "outputs": [],
   "source": [
    "from langchain_core.messages import HumanMessage\n",
    "for step in agent_executor.stream(\n",
    "    {\"messages\": [HumanMessage(content=\"find me a book about rome\")]},\n",
    "    stream_mode=\"values\"\n",
    "):\n",
    "    step[\"messages\"][-1].pretty_print()\n"
   ]
  },
  {
   "cell_type": "code",
   "execution_count": null,
   "id": "6a8d4a07",
   "metadata": {},
   "outputs": [],
   "source": [
    "for step in agent_executor.stream(\n",
    "    {\"messages\": [HumanMessage(content=\"\"\"can you add a book into the database? The title is sym,\n",
    "                                description is 'a book about symbology',\n",
    "                               category is 'History',\n",
    "                               summary is 'This book covers the life and times of symbology'\"\"\")]},\n",
    "    stream_mode=\"values\"\n",
    "):\n",
    "    step[\"messages\"][-1].pretty_print()"
   ]
  },
  {
   "cell_type": "markdown",
   "id": "d6594295",
   "metadata": {},
   "source": [
    "### Lets check if it was able to add it into the database"
   ]
  },
  {
   "cell_type": "code",
   "execution_count": null,
   "id": "d08c6c3f",
   "metadata": {},
   "outputs": [],
   "source": [
    "collection_books.count()"
   ]
  },
  {
   "cell_type": "code",
   "execution_count": null,
   "id": "597796e3",
   "metadata": {},
   "outputs": [],
   "source": [
    "query = \"A book about symbology\"\n",
    "query_embedding = openai_ef([query])\n",
    "results = collection_books.query(\n",
    "    query_embeddings=query_embedding,\n",
    "    n_results=3\n",
    ")\n",
    "pprint(results)"
   ]
  }
 ],
 "metadata": {
  "kernelspec": {
   "display_name": ".venv",
   "language": "python",
   "name": "python3"
  },
  "language_info": {
   "codemirror_mode": {
    "name": "ipython",
    "version": 3
   },
   "file_extension": ".py",
   "mimetype": "text/x-python",
   "name": "python",
   "nbconvert_exporter": "python",
   "pygments_lexer": "ipython3",
   "version": "3.10.11"
  }
 },
 "nbformat": 4,
 "nbformat_minor": 5
}
