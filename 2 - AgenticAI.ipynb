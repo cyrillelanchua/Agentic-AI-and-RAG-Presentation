{
 "cells": [
  {
   "cell_type": "markdown",
   "id": "1f9f9b7e",
   "metadata": {},
   "source": [
    "# Demo 2 - Agentic AI\n",
    "\n",
    "Let's try a different approach for using agentic AI"
   ]
  },
  {
   "cell_type": "markdown",
   "id": "ea037c61",
   "metadata": {},
   "source": [
    "#### Import Libraries"
   ]
  },
  {
   "cell_type": "code",
   "execution_count": null,
   "id": "ba456616",
   "metadata": {},
   "outputs": [],
   "source": [
    "import os\n",
    "from langchain_openai import AzureChatOpenAI"
   ]
  },
  {
   "cell_type": "markdown",
   "id": "ae8087f4",
   "metadata": {},
   "source": [
    "#### Set Certificate"
   ]
  },
  {
   "cell_type": "code",
   "execution_count": null,
   "id": "817c2d19",
   "metadata": {},
   "outputs": [],
   "source": [
    "os.environ['SSL_CERT_FILE'] = 'ca-bundle-full.crt'"
   ]
  },
  {
   "cell_type": "markdown",
   "id": "16540384",
   "metadata": {},
   "source": [
    "#### Create instance of our model and test if it works"
   ]
  },
  {
   "cell_type": "code",
   "execution_count": null,
   "id": "2a8c8fe6",
   "metadata": {},
   "outputs": [],
   "source": [
    "model = AzureChatOpenAI(\n",
    "    openai_api_version=\"<API_VERSION>\",\n",
    "    deployment_name=\"gpt-4o-2024-08-06\",\n",
    "    azure_endpoint=\"<ENDPOINT_URL>\",\n",
    "    openai_api_type=\"azure\",\n",
    "    openai_api_key=\"<API_KEY>\",\n",
    "\n",
    "    temperature=1,\n",
    "    max_tokens=500,\n",
    "    top_p=0.5,\n",
    "    frequency_penalty=0,\n",
    "    presence_penalty=0,\n",
    "    stop=None\n",
    "    )\n",
    "\n"
   ]
  },
  {
   "cell_type": "code",
   "execution_count": null,
   "id": "3c34df07",
   "metadata": {},
   "outputs": [],
   "source": [
    "from langchain_core.messages import HumanMessage\n",
    "\n",
    "response = model.invoke([HumanMessage(content=\"hi!\")])\n",
    "response.content"
   ]
  },
  {
   "cell_type": "markdown",
   "id": "e3282f60",
   "metadata": {},
   "source": [
    "#### Set our tool"
   ]
  },
  {
   "cell_type": "code",
   "execution_count": null,
   "id": "4fd2aadd",
   "metadata": {},
   "outputs": [],
   "source": [
    "from langchain_core.tools import tool\n",
    "\n",
    "@tool #Try commenting this out to see if it works without the decorator\n",
    "def count_how_many_letters(text: str, letter:str) -> int:\n",
    "    \"\"\"Counts how many letters of a specific kind are in the text.\"\"\"\n",
    "    return text.count(letter)\n",
    "\n",
    "#count_how_many_letters(\"strawberry\", \"r\")"
   ]
  },
  {
   "cell_type": "code",
   "execution_count": null,
   "id": "40169570",
   "metadata": {},
   "outputs": [],
   "source": [
    "tools = [count_how_many_letters]"
   ]
  },
  {
   "cell_type": "markdown",
   "id": "8953ce0e",
   "metadata": {},
   "source": [
    "### Binding our tools to our model\n",
    "\n",
    "For debugging\n",
    "\n",
    "Let's test if our model and the tools can be called/invoked"
   ]
  },
  {
   "cell_type": "code",
   "execution_count": null,
   "id": "e610dc20",
   "metadata": {},
   "outputs": [],
   "source": [
    "model_with_tools = model.bind_tools(tools)\n",
    "\n",
    "response = model_with_tools.invoke([HumanMessage(content=\"Hi!\")])\n",
    "\n",
    "print(f\"ContentString: {response.content}\")\n",
    "print(f\"ToolCalls: {response.tool_calls}\")\n"
   ]
  },
  {
   "cell_type": "code",
   "execution_count": null,
   "id": "0aba85a6",
   "metadata": {},
   "outputs": [],
   "source": [
    "response = model_with_tools.invoke([HumanMessage(content=\"How many times does the letter 'r' appear in the word strawberry??\")])\n",
    "\n",
    "print(f\"ContentString: {response.content}\")\n",
    "print(f\"ToolCalls: {response.tool_calls}\")"
   ]
  },
  {
   "cell_type": "markdown",
   "id": "d5ddb84c",
   "metadata": {},
   "source": [
    "#### Create the React Agent\n",
    "\n",
    "Note that we pass only the model and not the model_with_tools as create_react_agent binds it for us"
   ]
  },
  {
   "cell_type": "code",
   "execution_count": null,
   "id": "6e55a57e",
   "metadata": {},
   "outputs": [],
   "source": [
    "from langgraph.prebuilt import create_react_agent\n",
    "\n",
    "agent_executor = create_react_agent(model, tools)"
   ]
  },
  {
   "cell_type": "code",
   "execution_count": null,
   "id": "8ad2b9b4",
   "metadata": {},
   "outputs": [],
   "source": [
    "response = agent_executor.invoke({\"messages\": [HumanMessage(content=\"How many times does the letter 'r' appear in the word strawberry??\")]})\n",
    "\n",
    "response[\"messages\"]"
   ]
  },
  {
   "cell_type": "markdown",
   "id": "cd88fdfe",
   "metadata": {},
   "source": [
    "#### Let's format the output better with streaming"
   ]
  },
  {
   "cell_type": "code",
   "execution_count": null,
   "id": "021963d8",
   "metadata": {},
   "outputs": [],
   "source": [
    "for step in agent_executor.stream(\n",
    "    {\"messages\": [HumanMessage(content=\"How many times does the letter 'r' appear in the word strawberry??\")]},\n",
    "    stream_mode=\"values\",\n",
    "):\n",
    "    step[\"messages\"][-1].pretty_print()\n",
    "\n"
   ]
  },
  {
   "cell_type": "code",
   "execution_count": null,
   "id": "f74fc92a",
   "metadata": {},
   "outputs": [],
   "source": [
    "for step in agent_executor.stream(\n",
    "    {\"messages\": [HumanMessage(content=\"what react agent tools can you use?\")]},\n",
    "    stream_mode=\"values\",\n",
    "):\n",
    "    step[\"messages\"][-1].pretty_print()\n",
    "\n"
   ]
  },
  {
   "cell_type": "markdown",
   "id": "762e059e",
   "metadata": {},
   "source": [
    "### Let's create more tools and let the AI Combine them"
   ]
  },
  {
   "cell_type": "code",
   "execution_count": null,
   "id": "2aed9d81",
   "metadata": {},
   "outputs": [],
   "source": [
    "from langchain_core.tools import tool\n",
    "\n",
    "BASE_PATH = \"Data/\"\n",
    "\n",
    "def is_path_safe(filename):\n",
    "    return os.path.abspath(os.path.join(BASE_PATH, filename)).startswith(os.path.abspath(BASE_PATH))\n",
    "\n",
    "@tool\n",
    "def read_file(filename):\n",
    "    \"\"\"\n",
    "    Reads and returns the contents of the given text file.\n",
    "    If the file does not exist, returns an error message.\n",
    "    Arguments:\n",
    "        filename: The name of the file to read.\n",
    "    Returns:\n",
    "        The contents of the file as a string, or an error message if the file cannot be read.\n",
    "    \"\"\"\n",
    "    if not is_path_safe(filename):\n",
    "        return \"Error: Unsafe file path.\"\n",
    "    try:\n",
    "        with open(filename, 'r', encoding='utf-8') as f:\n",
    "            return f.read()\n",
    "    except Exception:\n",
    "        return f\"Error reading {filename}\"\n",
    "\n",
    "@tool\n",
    "def replace_in_text(old_char, new_char, text):\n",
    "    \"\"\"\n",
    "    Replaces all occurrences of old_char with new_char in the specified file.\n",
    "    Returns a message indicating success or failure.\n",
    "    Arguments:\n",
    "        old_char: The character to be replaced.\n",
    "        new_char: The character to replace with.\n",
    "        text: The text in which to perform the replacement.\n",
    "    Returns:\n",
    "        The modified text with replacements made.\n",
    "    \"\"\"\n",
    "    text = text.replace(old_char, new_char)\n",
    "    return text\n",
    "\n",
    "@tool\n",
    "def save_to_file(filename, content):\n",
    "    \"\"\"\n",
    "    Saves the given string content to the specified file.\n",
    "    Overwrites the file if it already exists.\n",
    "    Returns a message indicating success or failure.\n",
    "    Arguments:\n",
    "        filename: The name of the file to save to.\n",
    "        content: The string content to write to the file.\n",
    "    Returns:\n",
    "        A success message if the file was saved, or an error message if there was a problem.\n",
    "    \"\"\"\n",
    "    if not is_path_safe(filename):\n",
    "        return \"Error: Unsafe file path.\"\n",
    "    try:\n",
    "        with open(filename, 'w', encoding='utf-8') as f:\n",
    "            f.write(content)\n",
    "        return f\"Content successfully saved to {filename}.\"\n",
    "    except Exception:\n",
    "        return f\"Error saving to {filename}\"\n"
   ]
  },
  {
   "cell_type": "code",
   "execution_count": null,
   "id": "e4dc9c4a",
   "metadata": {},
   "outputs": [],
   "source": [
    "tools = [read_file, replace_in_text, save_to_file]"
   ]
  },
  {
   "cell_type": "code",
   "execution_count": null,
   "id": "de090823",
   "metadata": {},
   "outputs": [],
   "source": [
    "agent_executor = create_react_agent(model, tools)"
   ]
  },
  {
   "cell_type": "code",
   "execution_count": null,
   "id": "8b77ce5d",
   "metadata": {},
   "outputs": [],
   "source": [
    "\n",
    "for step in agent_executor.stream(\n",
    "    {\"messages\": [HumanMessage(content=\"can you read Data/input.txt, get the people 17 and below, change the delimiter to commas, and save to Data/output.txt\")]},\n",
    "    stream_mode=\"values\",\n",
    "):\n",
    "    step[\"messages\"][-1].pretty_print()\n",
    "\n"
   ]
  }
 ],
 "metadata": {
  "kernelspec": {
   "display_name": ".venv",
   "language": "python",
   "name": "python3"
  },
  "language_info": {
   "codemirror_mode": {
    "name": "ipython",
    "version": 3
   },
   "file_extension": ".py",
   "mimetype": "text/x-python",
   "name": "python",
   "nbconvert_exporter": "python",
   "pygments_lexer": "ipython3",
   "version": "3.10.11"
  }
 },
 "nbformat": 4,
 "nbformat_minor": 5
}
