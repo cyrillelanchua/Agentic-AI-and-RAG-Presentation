{
 "cells": [
  {
   "cell_type": "markdown",
   "id": "e290887d",
   "metadata": {},
   "source": [
    "# Demo - Model parameters\n",
    "Programmatically call OpenAI"
   ]
  },
  {
   "cell_type": "markdown",
   "id": "d6a2b0cb",
   "metadata": {},
   "source": [
    "#### Import the necessary libraries first\n"
   ]
  },
  {
   "cell_type": "code",
   "execution_count": null,
   "id": "8ba81c38",
   "metadata": {},
   "outputs": [],
   "source": [
    "import os\n",
    "from openai import AzureOpenAI"
   ]
  },
  {
   "cell_type": "markdown",
   "id": "cea97aa5",
   "metadata": {},
   "source": [
    "#### Download the certificate needed"
   ]
  },
  {
   "cell_type": "code",
   "execution_count": null,
   "id": "b0a7d935",
   "metadata": {},
   "outputs": [],
   "source": [
    "\n",
    "\n",
    "# And set the environment variable to use it\n",
    "os.environ['SSL_CERT_FILE'] = 'ca-bundle-full.crt'"
   ]
  },
  {
   "cell_type": "markdown",
   "id": "5b2b49d7",
   "metadata": {},
   "source": [
    "#### Create an AzureOpenAI Instance\n",
    "\n",
    "This is what we will use to call the API"
   ]
  },
  {
   "cell_type": "code",
   "execution_count": null,
   "id": "be03a990",
   "metadata": {},
   "outputs": [],
   "source": [
    "model = AzureOpenAI(\n",
    "    api_version=\"<API_VERSION>\", #How to find the API version? https://learn.microsoft.com/en-us/azure/ai-foundry/openai/api-version-lifecycle?tabs=key#latest-ga-api-release\n",
    "    azure_endpoint=\"<ENDPOINT_URL>\",\n",
    "    api_key=\"<API_KEY>\"\n",
    ")"
   ]
  },
  {
   "cell_type": "markdown",
   "id": "00af7a58",
   "metadata": {},
   "source": [
    "#### Setting the prompt"
   ]
  },
  {
   "cell_type": "code",
   "execution_count": null,
   "id": "c47dbfdc",
   "metadata": {},
   "outputs": [],
   "source": [
    "prompts = [\n",
    "        {\n",
    "            \"role\": \"system\",\n",
    "            \"content\": \"You are an AI assistant that helps people find information.\"\n",
    "        },\n",
    "        {\n",
    "            \"role\": \"user\",\n",
    "            \"content\": \"what is the capital of Philippines?\"\n",
    "        }\n",
    "    ]"
   ]
  },
  {
   "cell_type": "markdown",
   "id": "7e9fae7d",
   "metadata": {},
   "source": [
    "#### Calling the API\n",
    "Now we will call the API with a specific model and parameters"
   ]
  },
  {
   "cell_type": "code",
   "execution_count": null,
   "id": "7f24f7fc",
   "metadata": {},
   "outputs": [],
   "source": [
    "result = model.chat.completions.create(\n",
    "    model=\"gpt-4o-2024-11-20\", #models https://learn.microsoft.com/en-us/azure/ai-foundry/foundry-models/concepts/models-sold-directly-by-azure?pivots=azure-openai&tabs=global-standard%2Cstandard-chat-completions#model-summary-table-and-region-availability\n",
    "    messages=prompts,\n",
    "    temperature=1,\n",
    "    max_tokens=500,\n",
    "    top_p=0.5,\n",
    "    frequency_penalty=0,\n",
    "    presence_penalty=0,\n",
    ")\n",
    "#parameters reference: https://learn.microsoft.com/en-us/azure/ai-foundry/openai/reference?tabs=python#request-body-2"
   ]
  },
  {
   "cell_type": "markdown",
   "id": "ca20e84c",
   "metadata": {},
   "source": [
    "#### Let's print the results\n",
    "Notice anything about the results? There are a lot. How do we get the answer to our query?"
   ]
  },
  {
   "cell_type": "code",
   "execution_count": null,
   "id": "dcd89060",
   "metadata": {},
   "outputs": [],
   "source": [
    "print(result) # response https://learn.microsoft.com/en-us/azure/ai-foundry/openai/reference?tabs=python#createchatcompletionresponse"
   ]
  },
  {
   "cell_type": "markdown",
   "id": "e84004d2",
   "metadata": {},
   "source": [
    "Let's try to pinpoint where our answer is\n",
    "Note the other parts of the result"
   ]
  },
  {
   "cell_type": "code",
   "execution_count": null,
   "id": "4ba731db",
   "metadata": {},
   "outputs": [],
   "source": [
    "for item in result:\n",
    "    print(item)"
   ]
  },
  {
   "cell_type": "code",
   "execution_count": null,
   "id": "29d19646",
   "metadata": {},
   "outputs": [],
   "source": [
    "result.choices[0]"
   ]
  },
  {
   "cell_type": "code",
   "execution_count": null,
   "id": "35298132",
   "metadata": {},
   "outputs": [],
   "source": [
    "for choice in result.choices[0]:\n",
    "    print(f\"{choice}\")"
   ]
  },
  {
   "cell_type": "code",
   "execution_count": null,
   "id": "33afea4b",
   "metadata": {},
   "outputs": [],
   "source": [
    "result.choices[0].message"
   ]
  },
  {
   "cell_type": "code",
   "execution_count": null,
   "id": "1796c13d",
   "metadata": {},
   "outputs": [],
   "source": [
    "result.choices[0].message.content"
   ]
  },
  {
   "cell_type": "markdown",
   "id": "8e0ed633",
   "metadata": {},
   "source": [
    "### How do we find the tokens we used"
   ]
  },
  {
   "cell_type": "code",
   "execution_count": null,
   "id": "48a9fef2",
   "metadata": {},
   "outputs": [],
   "source": [
    "for item in result:\n",
    "    print(item) #https://learn.microsoft.com/en-us/azure/ai-foundry/openai/reference?tabs=python#completionusage"
   ]
  },
  {
   "cell_type": "code",
   "execution_count": null,
   "id": "a66c8f61",
   "metadata": {},
   "outputs": [],
   "source": [
    "for item in result.usage:\n",
    "    print(item)"
   ]
  },
  {
   "cell_type": "markdown",
   "id": "1c2f1a27",
   "metadata": {},
   "source": [
    "### Manual way to check token"
   ]
  },
  {
   "cell_type": "code",
   "execution_count": null,
   "id": "4a7cc9e3",
   "metadata": {},
   "outputs": [],
   "source": [
    "import tiktoken #https://platform.openai.com/tokenizer\n",
    "\n",
    "encoding = tiktoken.encoding_for_model(\"gpt-4o-2024-11-20\")\n",
    "def count_tokens(text):\n",
    "    return len(encoding.encode(text))\n",
    "\n",
    "count_tokens(result.choices[0].message.content)"
   ]
  },
  {
   "cell_type": "code",
   "execution_count": null,
   "id": "748d0900",
   "metadata": {},
   "outputs": [],
   "source": [
    "count_tokens(prompts[0]['content']) + count_tokens(prompts[1]['content'])"
   ]
  },
  {
   "cell_type": "markdown",
   "id": "81ca9422",
   "metadata": {},
   "source": [
    "Where are the rest of the tokens?\n",
    "\n",
    "Those are hidden tokens that OpenAI adds\n",
    "\n"
   ]
  }
 ],
 "metadata": {
  "kernelspec": {
   "display_name": "Python 3",
   "language": "python",
   "name": "python3"
  },
  "language_info": {
   "codemirror_mode": {
    "name": "ipython",
    "version": 3
   },
   "file_extension": ".py",
   "mimetype": "text/x-python",
   "name": "python",
   "nbconvert_exporter": "python",
   "pygments_lexer": "ipython3",
   "version": "3.10.11"
  }
 },
 "nbformat": 4,
 "nbformat_minor": 5
}
