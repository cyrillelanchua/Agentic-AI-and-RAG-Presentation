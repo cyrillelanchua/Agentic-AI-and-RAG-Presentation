{
 "cells": [
  {
   "cell_type": "markdown",
   "id": "223b8a26",
   "metadata": {},
   "source": [
    "# Demo 1 - Langchain\n",
    "Using Langchain to call OpenAI\n"
   ]
  },
  {
   "cell_type": "markdown",
   "id": "c6ffe350",
   "metadata": {},
   "source": [
    "#### Import all the required libraries"
   ]
  },
  {
   "cell_type": "code",
   "execution_count": null,
   "id": "24acb0b5",
   "metadata": {},
   "outputs": [],
   "source": [
    "import os\n",
    "from langchain_openai import AzureChatOpenAI\n",
    "from langchain_core.prompts import ChatPromptTemplate\n",
    "from langchain_core.output_parsers import StrOutputParser"
   ]
  },
  {
   "cell_type": "markdown",
   "id": "d27729cd",
   "metadata": {},
   "source": [
    "#### Set our cert again"
   ]
  },
  {
   "cell_type": "code",
   "execution_count": null,
   "id": "3e68812d",
   "metadata": {},
   "outputs": [],
   "source": [
    "\n",
    "\n",
    "# And set the environment variable to use it\n",
    "os.environ['SSL_CERT_FILE'] = 'ca-bundle-full.crt'"
   ]
  },
  {
   "cell_type": "markdown",
   "id": "10b6fadf",
   "metadata": {},
   "source": [
    "#### Create an AzureChatOpenAI instance\n",
    "this is what we will use to call OpenAI again and other functions\n",
    "\n",
    "How similar is this to the openai approach?"
   ]
  },
  {
   "cell_type": "code",
   "execution_count": null,
   "id": "f07e4ca4",
   "metadata": {},
   "outputs": [],
   "source": [
    "model = AzureChatOpenAI(\n",
    "    openai_api_version=\"<API_VERSION>\",\n",
    "    deployment_name=\"gpt-4o-2024-08-06\",\n",
    "    azure_endpoint=\"<ENDPOINT_URL>\",\n",
    "    openai_api_type=\"azure\",\n",
    "    openai_api_key=\"<API_KEY>\",\n",
    "\n",
    "    temperature=1,\n",
    "    max_tokens=500,\n",
    "    top_p=0.5,\n",
    "    frequency_penalty=0,\n",
    "    presence_penalty=0,\n",
    "    stop=None\n",
    "    )\n"
   ]
  },
  {
   "cell_type": "markdown",
   "id": "c4e9caa0",
   "metadata": {},
   "source": [
    "#### Set Prompt\n",
    "Notice anything different about the format?"
   ]
  },
  {
   "cell_type": "code",
   "execution_count": null,
   "id": "cbcfb133",
   "metadata": {},
   "outputs": [],
   "source": [
    "prompt = ChatPromptTemplate.from_messages([\n",
    "    (\"system\", \"You are a helpful assistant that translates English to {language}.\"),\n",
    "    (\"user\", \"I love programming.\"),\n",
    "\n",
    "])"
   ]
  },
  {
   "cell_type": "code",
   "execution_count": null,
   "id": "4c73379b",
   "metadata": {},
   "outputs": [],
   "source": [
    "prompt"
   ]
  },
  {
   "cell_type": "markdown",
   "id": "87a8ac20",
   "metadata": {},
   "source": [
    "#### Let's invoke or call our model\n",
    "\n",
    "Note the result of this.\n",
    "\n",
    "What does format_messages do?"
   ]
  },
  {
   "cell_type": "code",
   "execution_count": null,
   "id": "2b6fbf97",
   "metadata": {},
   "outputs": [],
   "source": [
    "result = model.invoke(prompt.format_messages(language=\"French\"))\n",
    "print(result)\n",
    "print(result.content)\n"
   ]
  },
  {
   "cell_type": "markdown",
   "id": "dad36494",
   "metadata": {},
   "source": [
    "#### Chains\n",
    "\n",
    "Let's try a different approach\n",
    "\n",
    "What is the advantage of this approach? "
   ]
  },
  {
   "cell_type": "code",
   "execution_count": null,
   "id": "4fe2e0fc",
   "metadata": {},
   "outputs": [],
   "source": [
    "output_parser = StrOutputParser()\n",
    "chain = prompt | model | output_parser #https://python.langchain.com/docs/concepts/lcel/#composition-syntax\n",
    "result = chain.invoke({\"language\": \"French\"})\n"
   ]
  },
  {
   "cell_type": "code",
   "execution_count": null,
   "id": "408492b9",
   "metadata": {},
   "outputs": [],
   "source": [
    "result"
   ]
  },
  {
   "cell_type": "markdown",
   "id": "ffa1a775",
   "metadata": {},
   "source": [
    "#### How do we get tokens"
   ]
  },
  {
   "cell_type": "code",
   "execution_count": null,
   "id": "6cd46560",
   "metadata": {},
   "outputs": [],
   "source": [
    "from langchain_community.callbacks import get_openai_callback\n",
    "\n",
    "with get_openai_callback() as cb:\n",
    "    result = chain.invoke({\"language\": \"French\"})\n",
    "    print(result)\n",
    "    print(\"---\")\n",
    "\n",
    "#attributes: https://python.langchain.com/api_reference/community/callbacks/langchain_community.callbacks.openai_info.OpenAICallbackHandler.html#langchain_community.callbacks.openai_info.OpenAICallbackHandler\n",
    "print(f\"Total Tokens: {cb.total_tokens}\")\n",
    "print(f\"Prompt Tokens: {cb.prompt_tokens}\")\n",
    "print(f\"Completion Tokens: {cb.completion_tokens}\")\n",
    "print(f\"Total Cost (USD): ${cb.total_cost}\")"
   ]
  }
 ],
 "metadata": {
  "kernelspec": {
   "display_name": ".venv",
   "language": "python",
   "name": "python3"
  },
  "language_info": {
   "codemirror_mode": {
    "name": "ipython",
    "version": 3
   },
   "file_extension": ".py",
   "mimetype": "text/x-python",
   "name": "python",
   "nbconvert_exporter": "python",
   "pygments_lexer": "ipython3",
   "version": "3.10.11"
  }
 },
 "nbformat": 4,
 "nbformat_minor": 5
}
